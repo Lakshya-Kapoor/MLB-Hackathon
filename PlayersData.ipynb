{
 "cells": [
  {
   "cell_type": "code",
   "execution_count": 1,
   "metadata": {},
   "outputs": [],
   "source": [
    "import requests\n",
    "import pandas as pd \n",
    "class MlbData:\n",
    "    def __init__(self):\n",
    "        self.statsBaseUrl  = \"https://statsapi.mlb.com/api/v1/\"\n",
    "        self.gumboBaseUrl = \"https://statsapi.mlb.com/api/v1.1/\"\n",
    "        self.tagLists = [\"teams\",\"divisions\",\"schedule\",\"stats\",\"standing\",\"people\",\"league\",\"game\"]\n",
    "        self.defaultParam = {\"sportId\":\"1\"}\n",
    "    def getResponse(self,path,inParam={}):\n",
    "        inParam.update(self.defaultParam)\n",
    "        response = requests.get(self.statsBaseUrl+path,params=inParam)\n",
    "        return response.json()  \n",
    "mlbData = MlbData()"
   ]
  },
  {
   "cell_type": "code",
   "execution_count": 3,
   "metadata": {},
   "outputs": [],
   "source": [
    "path = \"statTypes\"\n",
    "response = mlbData.getResponse(path)"
   ]
  },
  {
   "cell_type": "code",
   "execution_count": 15,
   "metadata": {},
   "outputs": [],
   "source": [
    "sportsId = \"1\"\n",
    "path = f\"sports/{sportsId}/players\"\n",
    "response = mlbData.getResponse(path)"
   ]
  },
  {
   "cell_type": "code",
   "execution_count": 17,
   "metadata": {},
   "outputs": [],
   "source": [
    "player_ids = [player['id'] for player in  response['people']]"
   ]
  },
  {
   "cell_type": "code",
   "execution_count": 53,
   "metadata": {},
   "outputs": [],
   "source": [
    "personId = player_ids[0]\n",
    "path = f\"people/{personId}/stats\"\n",
    "query = {'stats':'season','season':2024}\n",
    "response = mlbData.getResponse(path,query)"
   ]
  },
  {
   "cell_type": "code",
   "execution_count": 35,
   "metadata": {},
   "outputs": [],
   "source": [
    "batter_stats = {\n",
    "    \"gamesPlayed\": \"Games Played\",\n",
    "    \"avg\": \"Batting Average\",\n",
    "    \"homeRuns\": \"Home Runs\",\n",
    "    \"RBIs\": \"Runs Batted In\",\n",
    "    \"hits\": \"Hits\",\n",
    "    \"doubles\": \"Doubles\",\n",
    "    \"obp\": \"On-Base Percentage\",\n",
    "    \"slg\": \"Slugging Percentage\",\n",
    "    \"ops\": \"On-Base Plus Slugging (OPS)\",\n",
    "    \"stolenBases\": \"Stolen Bases\"\n",
    "}\n",
    "pitcher_stats = {\n",
    "    \"gamesPitched\": \"Games Played\",\n",
    "    \"wins\": \"Wins\",\n",
    "    \"losses\": \"Losses\",\n",
    "    \"era\": \"Earned Run Average\",\n",
    "    \"strikeOuts\": \"Strikeouts\",\n",
    "    \"whip\": \"Walks + Hits per Inning Pitched (WHIP)\",\n",
    "    \"inningsPitched\": \"Innings Pitched\",\n",
    "    \"saveOpportunities\": \"Save Opportunities\"\n",
    "}\n",
    "fielding_stats = {'Errors':'errors in fielding '}\n"
   ]
  },
  {
   "cell_type": "code",
   "execution_count": 44,
   "metadata": {},
   "outputs": [],
   "source": [
    "path = f\"people/{personId}\"\n",
    "response = mlbData.getResponse(path)\n"
   ]
  },
  {
   "cell_type": "code",
   "execution_count": 43,
   "metadata": {},
   "outputs": [],
   "source": [
    "player_info = {\n",
    "    'fullName',\n",
    "    'primaryNumber',\n",
    "    'currentAge',\n",
    "    'birthCountry',\n",
    "    'height',\n",
    "    'active',\n",
    "    'primaryPosition',\n",
    "    'batside',\n",
    "    'pitchSide'\n",
    "}"
   ]
  },
  {
   "cell_type": "code",
   "execution_count": 55,
   "metadata": {},
   "outputs": [],
   "source": [
    "teamId = 133\n",
    "path = f\"teams/{teamId}/stats\"\n",
    "query = {'group':{\"HITTING\"},'season':2024,'stats':'season'}\n",
    "response = mlbData.getResponse(path,query)"
   ]
  },
  {
   "cell_type": "code",
   "execution_count": null,
   "metadata": {},
   "outputs": [],
   "source": []
  }
 ],
 "metadata": {
  "kernelspec": {
   "display_name": "Python 3",
   "language": "python",
   "name": "python3"
  },
  "language_info": {
   "codemirror_mode": {
    "name": "ipython",
    "version": 3
   },
   "file_extension": ".py",
   "mimetype": "text/x-python",
   "name": "python",
   "nbconvert_exporter": "python",
   "pygments_lexer": "ipython3",
   "version": "3.12.3"
  }
 },
 "nbformat": 4,
 "nbformat_minor": 2
}
